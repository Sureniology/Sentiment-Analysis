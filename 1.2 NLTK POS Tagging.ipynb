{
 "cells": [
  {
   "cell_type": "code",
   "execution_count": 3,
   "metadata": {},
   "outputs": [],
   "source": [
    "import re\n",
    "import nltk\n",
    "import pandas as pd\n",
    "from nltk.tokenize import word_tokenize\n",
    "from nltk import pos_tag\n"
   ]
  },
  {
   "cell_type": "markdown",
   "metadata": {},
   "source": [
    "Importing excel file to jupyter"
   ]
  },
  {
   "cell_type": "code",
   "execution_count": 4,
   "metadata": {},
   "outputs": [],
   "source": [
    "data = pd.read_excel(\"HotelReview.xlsx\")"
   ]
  },
  {
   "cell_type": "markdown",
   "metadata": {},
   "source": [
    "Using dropna syntax to remove any empty rows in the table"
   ]
  },
  {
   "cell_type": "code",
   "execution_count": 5,
   "metadata": {},
   "outputs": [],
   "source": [
    "data = data.dropna(axis=0, how='any', thresh=None, subset=None, inplace=False)"
   ]
  },
  {
   "cell_type": "code",
   "execution_count": 6,
   "metadata": {},
   "outputs": [],
   "source": [
    "Data = data[[\"Review\"]]"
   ]
  },
  {
   "cell_type": "markdown",
   "metadata": {},
   "source": [
    "Nename the column \"Review\" as \"Comments\""
   ]
  },
  {
   "cell_type": "code",
   "execution_count": 7,
   "metadata": {},
   "outputs": [],
   "source": [
    "Data.columns = [\"Comments\"]"
   ]
  },
  {
   "cell_type": "markdown",
   "metadata": {},
   "source": [
    "Define process funstion to clean symbols in sentence and convert the uppercase alphabet to lowercase."
   ]
  },
  {
   "cell_type": "code",
   "execution_count": 8,
   "metadata": {},
   "outputs": [],
   "source": [
    "import re \n",
    "def process(X):\n",
    "    return \" \".join(re.sub(\",\",\" \",X.lower()).split())"
   ]
  },
  {
   "cell_type": "markdown",
   "metadata": {},
   "source": [
    "Pandas.apply allow the users to pass a function and apply it on every single value of the Pandas series."
   ]
  },
  {
   "cell_type": "code",
   "execution_count": 9,
   "metadata": {},
   "outputs": [],
   "source": [
    "Data['Comments'] = Data['Comments'].apply(process)"
   ]
  },
  {
   "cell_type": "code",
   "execution_count": 10,
   "metadata": {},
   "outputs": [
    {
     "data": {
      "text/plain": [
       "0                             wow... loved this place.\n",
       "1                                   crust is not good.\n",
       "2            not tasty and the texture was just nasty.\n",
       "3    stopped by during the late may bank holiday of...\n",
       "4    the selection on the menu was great and so wer...\n",
       "5       now i am getting angry and i want my damn pho.\n",
       "6                honeslty it didn't taste that fresh.)\n",
       "7    the potatoes were like rubber and you could te...\n",
       "8                            the fries were great too.\n",
       "Name: Comments, dtype: object"
      ]
     },
     "execution_count": 10,
     "metadata": {},
     "output_type": "execute_result"
    }
   ],
   "source": [
    "Data['Comments']"
   ]
  },
  {
   "cell_type": "markdown",
   "metadata": {},
   "source": [
    "Tokenization is the process by which sentence is divided into words called tokens"
   ]
  },
  {
   "cell_type": "code",
   "execution_count": 11,
   "metadata": {},
   "outputs": [],
   "source": [
    "Data[\"Comments1\"] = Data[\"Comments\"].apply(word_tokenize)"
   ]
  },
  {
   "cell_type": "markdown",
   "metadata": {},
   "source": [
    "A part-of-speech tagger, or POS-tagger, processes a sequence of words, and attaches a part of speech tag to each word"
   ]
  },
  {
   "cell_type": "code",
   "execution_count": 12,
   "metadata": {},
   "outputs": [],
   "source": [
    "Data[\"Comments2\"] = Data[\"Comments1\"].apply(pos_tag)"
   ]
  },
  {
   "cell_type": "code",
   "execution_count": 13,
   "metadata": {},
   "outputs": [
    {
     "data": {
      "text/plain": [
       "0    [(wow, NN), (..., :), (loved, VBD), (this, DT)...\n",
       "1    [(crust, NN), (is, VBZ), (not, RB), (good, JJ)...\n",
       "2    [(not, RB), (tasty, JJ), (and, CC), (the, DT),...\n",
       "3    [(stopped, VBN), (by, IN), (during, IN), (the,...\n",
       "4    [(the, DT), (selection, NN), (on, IN), (the, D...\n",
       "5    [(now, RB), (i, VBZ), (am, VBP), (getting, VBG...\n",
       "6    [(honeslty, NN), (it, PRP), (did, VBD), (n't, ...\n",
       "7    [(the, DT), (potatoes, NNS), (were, VBD), (lik...\n",
       "8    [(the, DT), (fries, NNS), (were, VBD), (great,...\n",
       "Name: Comments2, dtype: object"
      ]
     },
     "execution_count": 13,
     "metadata": {},
     "output_type": "execute_result"
    }
   ],
   "source": [
    "Data[\"Comments2\"]"
   ]
  },
  {
   "cell_type": "code",
   "execution_count": 14,
   "metadata": {},
   "outputs": [
    {
     "data": {
      "text/html": [
       "<div>\n",
       "<style scoped>\n",
       "    .dataframe tbody tr th:only-of-type {\n",
       "        vertical-align: middle;\n",
       "    }\n",
       "\n",
       "    .dataframe tbody tr th {\n",
       "        vertical-align: top;\n",
       "    }\n",
       "\n",
       "    .dataframe thead th {\n",
       "        text-align: right;\n",
       "    }\n",
       "</style>\n",
       "<table border=\"1\" class=\"dataframe\">\n",
       "  <thead>\n",
       "    <tr style=\"text-align: right;\">\n",
       "      <th></th>\n",
       "      <th>Comments</th>\n",
       "      <th>Comments2</th>\n",
       "    </tr>\n",
       "  </thead>\n",
       "  <tbody>\n",
       "    <tr>\n",
       "      <th>0</th>\n",
       "      <td>wow... loved this place.</td>\n",
       "      <td>[(wow, NN), (..., :), (loved, VBD), (this, DT)...</td>\n",
       "    </tr>\n",
       "    <tr>\n",
       "      <th>1</th>\n",
       "      <td>crust is not good.</td>\n",
       "      <td>[(crust, NN), (is, VBZ), (not, RB), (good, JJ)...</td>\n",
       "    </tr>\n",
       "    <tr>\n",
       "      <th>2</th>\n",
       "      <td>not tasty and the texture was just nasty.</td>\n",
       "      <td>[(not, RB), (tasty, JJ), (and, CC), (the, DT),...</td>\n",
       "    </tr>\n",
       "    <tr>\n",
       "      <th>3</th>\n",
       "      <td>stopped by during the late may bank holiday of...</td>\n",
       "      <td>[(stopped, VBN), (by, IN), (during, IN), (the,...</td>\n",
       "    </tr>\n",
       "    <tr>\n",
       "      <th>4</th>\n",
       "      <td>the selection on the menu was great and so wer...</td>\n",
       "      <td>[(the, DT), (selection, NN), (on, IN), (the, D...</td>\n",
       "    </tr>\n",
       "    <tr>\n",
       "      <th>5</th>\n",
       "      <td>now i am getting angry and i want my damn pho.</td>\n",
       "      <td>[(now, RB), (i, VBZ), (am, VBP), (getting, VBG...</td>\n",
       "    </tr>\n",
       "    <tr>\n",
       "      <th>6</th>\n",
       "      <td>honeslty it didn't taste that fresh.)</td>\n",
       "      <td>[(honeslty, NN), (it, PRP), (did, VBD), (n't, ...</td>\n",
       "    </tr>\n",
       "    <tr>\n",
       "      <th>7</th>\n",
       "      <td>the potatoes were like rubber and you could te...</td>\n",
       "      <td>[(the, DT), (potatoes, NNS), (were, VBD), (lik...</td>\n",
       "    </tr>\n",
       "    <tr>\n",
       "      <th>8</th>\n",
       "      <td>the fries were great too.</td>\n",
       "      <td>[(the, DT), (fries, NNS), (were, VBD), (great,...</td>\n",
       "    </tr>\n",
       "  </tbody>\n",
       "</table>\n",
       "</div>"
      ],
      "text/plain": [
       "                                            Comments  \\\n",
       "0                           wow... loved this place.   \n",
       "1                                 crust is not good.   \n",
       "2          not tasty and the texture was just nasty.   \n",
       "3  stopped by during the late may bank holiday of...   \n",
       "4  the selection on the menu was great and so wer...   \n",
       "5     now i am getting angry and i want my damn pho.   \n",
       "6              honeslty it didn't taste that fresh.)   \n",
       "7  the potatoes were like rubber and you could te...   \n",
       "8                          the fries were great too.   \n",
       "\n",
       "                                           Comments2  \n",
       "0  [(wow, NN), (..., :), (loved, VBD), (this, DT)...  \n",
       "1  [(crust, NN), (is, VBZ), (not, RB), (good, JJ)...  \n",
       "2  [(not, RB), (tasty, JJ), (and, CC), (the, DT),...  \n",
       "3  [(stopped, VBN), (by, IN), (during, IN), (the,...  \n",
       "4  [(the, DT), (selection, NN), (on, IN), (the, D...  \n",
       "5  [(now, RB), (i, VBZ), (am, VBP), (getting, VBG...  \n",
       "6  [(honeslty, NN), (it, PRP), (did, VBD), (n't, ...  \n",
       "7  [(the, DT), (potatoes, NNS), (were, VBD), (lik...  \n",
       "8  [(the, DT), (fries, NNS), (were, VBD), (great,...  "
      ]
     },
     "execution_count": 14,
     "metadata": {},
     "output_type": "execute_result"
    }
   ],
   "source": [
    "Data[[\"Comments\",\"Comments2\"]]"
   ]
  },
  {
   "cell_type": "code",
   "execution_count": null,
   "metadata": {},
   "outputs": [],
   "source": []
  }
 ],
 "metadata": {
  "kernelspec": {
   "display_name": "Python 3",
   "language": "python",
   "name": "python3"
  },
  "language_info": {
   "codemirror_mode": {
    "name": "ipython",
    "version": 3
   },
   "file_extension": ".py",
   "mimetype": "text/x-python",
   "name": "python",
   "nbconvert_exporter": "python",
   "pygments_lexer": "ipython3",
   "version": "3.7.1"
  }
 },
 "nbformat": 4,
 "nbformat_minor": 2
}
